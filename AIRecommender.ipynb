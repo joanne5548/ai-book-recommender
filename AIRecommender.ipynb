{
  "cells": [
    {
      "cell_type": "markdown",
      "source": [
        "Imports necessary libraries"
      ],
      "metadata": {
        "id": "qRPV1O8IgV3A"
      }
    },
    {
      "cell_type": "code",
      "execution_count": 1,
      "metadata": {
        "id": "mJpqlt4LpMAD"
      },
      "outputs": [],
      "source": [
        "import pandas as pd\n",
        "from scipy.sparse import csr_matrix\n",
        "import zipfile\n",
        "import io"
      ]
    },
    {
      "cell_type": "markdown",
      "source": [
        "Unpacks zip file and reads in csv files as data frames"
      ],
      "metadata": {
        "id": "2aJQovE3g3QS"
      }
    },
    {
      "cell_type": "code",
      "source": [
        "zf = zipfile.ZipFile(\"table.zip\", \"r\")\n",
        "zf.extractall()"
      ],
      "metadata": {
        "id": "IK0H_MNtnDXr"
      },
      "execution_count": 3,
      "outputs": []
    },
    {
      "cell_type": "code",
      "source": [
        "table = pd.read_csv(\"table.csv\")\n",
        "books = pd.read_csv(\"books.csv\")"
      ],
      "metadata": {
        "id": "pUSzSGgrq0H3"
      },
      "execution_count": 18,
      "outputs": []
    },
    {
      "cell_type": "code",
      "source": [
        "arr_of_books = []\n",
        "for index, row in books.iterrows():\n",
        "    arr_of_books.append(row[\"title\"])"
      ],
      "metadata": {
        "id": "SIZC2GdAr8N-"
      },
      "execution_count": 19,
      "outputs": []
    },
    {
      "cell_type": "code",
      "source": [
        "table.pop(table.columns[0])\n",
        "table.fillna(0, inplace=True)"
      ],
      "metadata": {
        "id": "t_a8w2wHZKCZ"
      },
      "execution_count": 20,
      "outputs": []
    },
    {
      "cell_type": "code",
      "source": [
        "table.columns = arr_of_books"
      ],
      "metadata": {
        "id": "RHUCfa7eiqsk"
      },
      "execution_count": 21,
      "outputs": []
    },
    {
      "cell_type": "code",
      "source": [
        "table = table.transpose()\n",
        "print(table)"
      ],
      "metadata": {
        "colab": {
          "base_uri": "https://localhost:8080/"
        },
        "id": "9DtHPjGRqwE8",
        "outputId": "c1611744-40d4-4cf0-e0d0-4be8309fbd41"
      },
      "execution_count": 22,
      "outputs": [
        {
          "output_type": "stream",
          "name": "stdout",
          "text": [
            "                                                    0      1      2      \\\n",
            "The Hunger Games (The Hunger Games, #1)               0.0    0.0    0.0   \n",
            "Harry Potter and the Sorcerer's Stone (Harry Po...    0.0    5.0    0.0   \n",
            "Twilight (Twilight, #1)                               0.0    0.0    0.0   \n",
            "To Kill a Mockingbird                                 5.0    0.0    3.0   \n",
            "The Great Gatsby                                      0.0    5.0    0.0   \n",
            "...                                                   ...    ...    ...   \n",
            "Bayou Moon (The Edge, #2)                             0.0    0.0    0.0   \n",
            "Means of Ascent (The Years of Lyndon Johnson, #2)     0.0    0.0    0.0   \n",
            "The Mauritius Command                                 0.0    0.0    0.0   \n",
            "Cinderella Ate My Daughter: Dispatches from the...    0.0    0.0    0.0   \n",
            "The First World War                                   0.0    0.0    0.0   \n",
            "\n",
            "                                                    3      4      5      \\\n",
            "The Hunger Games (The Hunger Games, #1)               0.0    0.0    0.0   \n",
            "Harry Potter and the Sorcerer's Stone (Harry Po...    5.0    0.0    0.0   \n",
            "Twilight (Twilight, #1)                               0.0    0.0    0.0   \n",
            "To Kill a Mockingbird                                 4.0    0.0    0.0   \n",
            "The Great Gatsby                                      4.0    0.0    0.0   \n",
            "...                                                   ...    ...    ...   \n",
            "Bayou Moon (The Edge, #2)                             0.0    0.0    0.0   \n",
            "Means of Ascent (The Years of Lyndon Johnson, #2)     0.0    0.0    0.0   \n",
            "The Mauritius Command                                 0.0    0.0    0.0   \n",
            "Cinderella Ate My Daughter: Dispatches from the...    0.0    0.0    0.0   \n",
            "The First World War                                   0.0    0.0    0.0   \n",
            "\n",
            "                                                    6      7      8      \\\n",
            "The Hunger Games (The Hunger Games, #1)               0.0    0.0    4.0   \n",
            "Harry Potter and the Sorcerer's Stone (Harry Po...    0.0    0.0    4.0   \n",
            "Twilight (Twilight, #1)                               0.0    0.0    4.0   \n",
            "To Kill a Mockingbird                                 0.0    3.0    0.0   \n",
            "The Great Gatsby                                      3.0    3.0    5.0   \n",
            "...                                                   ...    ...    ...   \n",
            "Bayou Moon (The Edge, #2)                             0.0    0.0    0.0   \n",
            "Means of Ascent (The Years of Lyndon Johnson, #2)     0.0    0.0    0.0   \n",
            "The Mauritius Command                                 0.0    0.0    0.0   \n",
            "Cinderella Ate My Daughter: Dispatches from the...    0.0    0.0    0.0   \n",
            "The First World War                                   0.0    0.0    0.0   \n",
            "\n",
            "                                                    9      ...  53414  53415  \\\n",
            "The Hunger Games (The Hunger Games, #1)               0.0  ...    0.0    0.0   \n",
            "Harry Potter and the Sorcerer's Stone (Harry Po...    0.0  ...    0.0    0.0   \n",
            "Twilight (Twilight, #1)                               0.0  ...    0.0    0.0   \n",
            "To Kill a Mockingbird                                 5.0  ...    0.0    0.0   \n",
            "The Great Gatsby                                      5.0  ...    0.0    0.0   \n",
            "...                                                   ...  ...    ...    ...   \n",
            "Bayou Moon (The Edge, #2)                             0.0  ...    0.0    0.0   \n",
            "Means of Ascent (The Years of Lyndon Johnson, #2)     0.0  ...    0.0    0.0   \n",
            "The Mauritius Command                                 0.0  ...    0.0    0.0   \n",
            "Cinderella Ate My Daughter: Dispatches from the...    0.0  ...    0.0    0.0   \n",
            "The First World War                                   0.0  ...    0.0    0.0   \n",
            "\n",
            "                                                    53416  53417  53418  \\\n",
            "The Hunger Games (The Hunger Games, #1)               4.0    5.0    4.0   \n",
            "Harry Potter and the Sorcerer's Stone (Harry Po...    0.0    0.0    5.0   \n",
            "Twilight (Twilight, #1)                               0.0    0.0    3.0   \n",
            "To Kill a Mockingbird                                 0.0    0.0    3.0   \n",
            "The Great Gatsby                                      0.0    0.0    3.0   \n",
            "...                                                   ...    ...    ...   \n",
            "Bayou Moon (The Edge, #2)                             0.0    0.0    0.0   \n",
            "Means of Ascent (The Years of Lyndon Johnson, #2)     0.0    0.0    0.0   \n",
            "The Mauritius Command                                 0.0    0.0    0.0   \n",
            "Cinderella Ate My Daughter: Dispatches from the...    0.0    0.0    0.0   \n",
            "The First World War                                   0.0    0.0    0.0   \n",
            "\n",
            "                                                    53419  53420  53421  \\\n",
            "The Hunger Games (The Hunger Games, #1)               4.0    4.0    4.0   \n",
            "Harry Potter and the Sorcerer's Stone (Harry Po...    5.0    5.0    5.0   \n",
            "Twilight (Twilight, #1)                               3.0    0.0    0.0   \n",
            "To Kill a Mockingbird                                 0.0    5.0    0.0   \n",
            "The Great Gatsby                                      2.0    4.0    0.0   \n",
            "...                                                   ...    ...    ...   \n",
            "Bayou Moon (The Edge, #2)                             0.0    0.0    0.0   \n",
            "Means of Ascent (The Years of Lyndon Johnson, #2)     0.0    0.0    0.0   \n",
            "The Mauritius Command                                 0.0    0.0    0.0   \n",
            "Cinderella Ate My Daughter: Dispatches from the...    0.0    0.0    0.0   \n",
            "The First World War                                   0.0    0.0    0.0   \n",
            "\n",
            "                                                    53422  53423  \n",
            "The Hunger Games (The Hunger Games, #1)               4.0    4.0  \n",
            "Harry Potter and the Sorcerer's Stone (Harry Po...    5.0    5.0  \n",
            "Twilight (Twilight, #1)                               0.0    4.0  \n",
            "To Kill a Mockingbird                                 5.0    5.0  \n",
            "The Great Gatsby                                      0.0    0.0  \n",
            "...                                                   ...    ...  \n",
            "Bayou Moon (The Edge, #2)                             0.0    0.0  \n",
            "Means of Ascent (The Years of Lyndon Johnson, #2)     0.0    0.0  \n",
            "The Mauritius Command                                 0.0    0.0  \n",
            "Cinderella Ate My Daughter: Dispatches from the...    0.0    0.0  \n",
            "The First World War                                   0.0    0.0  \n",
            "\n",
            "[10000 rows x 53424 columns]\n"
          ]
        }
      ]
    },
    {
      "cell_type": "code",
      "source": [
        "book_matrix = csr_matrix(table)"
      ],
      "metadata": {
        "id": "GvoYxvVJi_Mf"
      },
      "execution_count": 11,
      "outputs": []
    },
    {
      "cell_type": "code",
      "source": [
        "from sklearn.neighbors import NearestNeighbors\n",
        "model = NearestNeighbors(algorithm= 'brute')"
      ],
      "metadata": {
        "id": "uIBw5uGWjSEo"
      },
      "execution_count": 12,
      "outputs": []
    },
    {
      "cell_type": "code",
      "source": [
        "model.fit(book_matrix)"
      ],
      "metadata": {
        "colab": {
          "base_uri": "https://localhost:8080/",
          "height": 74
        },
        "id": "-abSf7XKjTlL",
        "outputId": "57736299-5875-42ba-8975-9d268e127a77"
      },
      "execution_count": 13,
      "outputs": [
        {
          "output_type": "execute_result",
          "data": {
            "text/plain": [
              "NearestNeighbors(algorithm='brute')"
            ],
            "text/html": [
              "<style>#sk-container-id-1 {color: black;background-color: white;}#sk-container-id-1 pre{padding: 0;}#sk-container-id-1 div.sk-toggleable {background-color: white;}#sk-container-id-1 label.sk-toggleable__label {cursor: pointer;display: block;width: 100%;margin-bottom: 0;padding: 0.3em;box-sizing: border-box;text-align: center;}#sk-container-id-1 label.sk-toggleable__label-arrow:before {content: \"▸\";float: left;margin-right: 0.25em;color: #696969;}#sk-container-id-1 label.sk-toggleable__label-arrow:hover:before {color: black;}#sk-container-id-1 div.sk-estimator:hover label.sk-toggleable__label-arrow:before {color: black;}#sk-container-id-1 div.sk-toggleable__content {max-height: 0;max-width: 0;overflow: hidden;text-align: left;background-color: #f0f8ff;}#sk-container-id-1 div.sk-toggleable__content pre {margin: 0.2em;color: black;border-radius: 0.25em;background-color: #f0f8ff;}#sk-container-id-1 input.sk-toggleable__control:checked~div.sk-toggleable__content {max-height: 200px;max-width: 100%;overflow: auto;}#sk-container-id-1 input.sk-toggleable__control:checked~label.sk-toggleable__label-arrow:before {content: \"▾\";}#sk-container-id-1 div.sk-estimator input.sk-toggleable__control:checked~label.sk-toggleable__label {background-color: #d4ebff;}#sk-container-id-1 div.sk-label input.sk-toggleable__control:checked~label.sk-toggleable__label {background-color: #d4ebff;}#sk-container-id-1 input.sk-hidden--visually {border: 0;clip: rect(1px 1px 1px 1px);clip: rect(1px, 1px, 1px, 1px);height: 1px;margin: -1px;overflow: hidden;padding: 0;position: absolute;width: 1px;}#sk-container-id-1 div.sk-estimator {font-family: monospace;background-color: #f0f8ff;border: 1px dotted black;border-radius: 0.25em;box-sizing: border-box;margin-bottom: 0.5em;}#sk-container-id-1 div.sk-estimator:hover {background-color: #d4ebff;}#sk-container-id-1 div.sk-parallel-item::after {content: \"\";width: 100%;border-bottom: 1px solid gray;flex-grow: 1;}#sk-container-id-1 div.sk-label:hover label.sk-toggleable__label {background-color: #d4ebff;}#sk-container-id-1 div.sk-serial::before {content: \"\";position: absolute;border-left: 1px solid gray;box-sizing: border-box;top: 0;bottom: 0;left: 50%;z-index: 0;}#sk-container-id-1 div.sk-serial {display: flex;flex-direction: column;align-items: center;background-color: white;padding-right: 0.2em;padding-left: 0.2em;position: relative;}#sk-container-id-1 div.sk-item {position: relative;z-index: 1;}#sk-container-id-1 div.sk-parallel {display: flex;align-items: stretch;justify-content: center;background-color: white;position: relative;}#sk-container-id-1 div.sk-item::before, #sk-container-id-1 div.sk-parallel-item::before {content: \"\";position: absolute;border-left: 1px solid gray;box-sizing: border-box;top: 0;bottom: 0;left: 50%;z-index: -1;}#sk-container-id-1 div.sk-parallel-item {display: flex;flex-direction: column;z-index: 1;position: relative;background-color: white;}#sk-container-id-1 div.sk-parallel-item:first-child::after {align-self: flex-end;width: 50%;}#sk-container-id-1 div.sk-parallel-item:last-child::after {align-self: flex-start;width: 50%;}#sk-container-id-1 div.sk-parallel-item:only-child::after {width: 0;}#sk-container-id-1 div.sk-dashed-wrapped {border: 1px dashed gray;margin: 0 0.4em 0.5em 0.4em;box-sizing: border-box;padding-bottom: 0.4em;background-color: white;}#sk-container-id-1 div.sk-label label {font-family: monospace;font-weight: bold;display: inline-block;line-height: 1.2em;}#sk-container-id-1 div.sk-label-container {text-align: center;}#sk-container-id-1 div.sk-container {/* jupyter's `normalize.less` sets `[hidden] { display: none; }` but bootstrap.min.css set `[hidden] { display: none !important; }` so we also need the `!important` here to be able to override the default hidden behavior on the sphinx rendered scikit-learn.org. See: https://github.com/scikit-learn/scikit-learn/issues/21755 */display: inline-block !important;position: relative;}#sk-container-id-1 div.sk-text-repr-fallback {display: none;}</style><div id=\"sk-container-id-1\" class=\"sk-top-container\"><div class=\"sk-text-repr-fallback\"><pre>NearestNeighbors(algorithm=&#x27;brute&#x27;)</pre><b>In a Jupyter environment, please rerun this cell to show the HTML representation or trust the notebook. <br />On GitHub, the HTML representation is unable to render, please try loading this page with nbviewer.org.</b></div><div class=\"sk-container\" hidden><div class=\"sk-item\"><div class=\"sk-estimator sk-toggleable\"><input class=\"sk-toggleable__control sk-hidden--visually\" id=\"sk-estimator-id-1\" type=\"checkbox\" checked><label for=\"sk-estimator-id-1\" class=\"sk-toggleable__label sk-toggleable__label-arrow\">NearestNeighbors</label><div class=\"sk-toggleable__content\"><pre>NearestNeighbors(algorithm=&#x27;brute&#x27;)</pre></div></div></div></div></div>"
            ]
          },
          "metadata": {},
          "execution_count": 13
        }
      ]
    },
    {
      "cell_type": "code",
      "source": [
        "distance, suggestion = model.kneighbors(table.iloc[293,:].values.reshape(1,-1), n_neighbors=10 )"
      ],
      "metadata": {
        "id": "1t6y0UF4jY9L"
      },
      "execution_count": 14,
      "outputs": []
    },
    {
      "cell_type": "code",
      "source": [
        "suggestion"
      ],
      "metadata": {
        "colab": {
          "base_uri": "https://localhost:8080/"
        },
        "id": "r7C9rr4gjzL8",
        "outputId": "1f581cdf-e6bc-43a6-f946-03a15c4c02b4"
      },
      "execution_count": 15,
      "outputs": [
        {
          "output_type": "execute_result",
          "data": {
            "text/plain": [
              "array([[  293, 47952, 51327, 49678, 50430, 48035, 51576, 29627, 45008,\n",
              "        48514]])"
            ]
          },
          "metadata": {},
          "execution_count": 15
        }
      ]
    },
    {
      "cell_type": "code",
      "source": [
        "for i in range(len(suggestion)):\n",
        "    print(table.index[suggestion[i]])"
      ],
      "metadata": {
        "colab": {
          "base_uri": "https://localhost:8080/"
        },
        "id": "G_HWXcwykI9B",
        "outputId": "2a3e86b9-dc1b-4f33-f8d7-e194067eec8b"
      },
      "execution_count": 17,
      "outputs": [
        {
          "output_type": "stream",
          "name": "stdout",
          "text": [
            "Int64Index([293, 47952, 51327, 49678, 50430, 48035, 51576, 29627, 45008,\n",
            "            48514],\n",
            "           dtype='int64')\n"
          ]
        }
      ]
    },
    {
      "cell_type": "code",
      "source": [
        "import pickle\n",
        "table.to_pickle(\"table.pkl\")"
      ],
      "metadata": {
        "id": "lOVDVk8Jt256"
      },
      "execution_count": 23,
      "outputs": []
    },
    {
      "cell_type": "code",
      "source": [
        "# mount it\n",
        "from google.colab import drive\n",
        "drive.mount('/content/drive')\n",
        "# copy it there\n",
        "!cp table.pkl /content/drive/MyDrive"
      ],
      "metadata": {
        "colab": {
          "base_uri": "https://localhost:8080/"
        },
        "id": "S8iyVwjgGut0",
        "outputId": "257f10e1-4844-41dd-f862-560643a8b91a"
      },
      "execution_count": 24,
      "outputs": [
        {
          "output_type": "stream",
          "name": "stdout",
          "text": [
            "Mounted at /content/drive\n"
          ]
        }
      ]
    }
  ],
  "metadata": {
    "colab": {
      "provenance": [],
      "history_visible": true,
      "machine_shape": "hm",
      "gpuType": "V100"
    },
    "kernelspec": {
      "display_name": "Python 3",
      "name": "python3"
    },
    "language_info": {
      "name": "python"
    },
    "accelerator": "GPU"
  },
  "nbformat": 4,
  "nbformat_minor": 0
}